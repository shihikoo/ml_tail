{
 "cells": [
  {
   "cell_type": "markdown",
   "id": "37cba285-a646-4b6c-a8e4-a0718c50378e",
   "metadata": {
    "scrolled": true
   },
   "source": [
    "### This is the line to use load all full data\n"
   ]
  },
  {
   "cell_type": "code",
   "execution_count": null,
   "id": "a42710aa-6ec8-4f61-b8d6-a8eaabadceef",
   "metadata": {
    "scrolled": true
   },
   "outputs": [],
   "source": [
    "import prepare_fulldata\n",
    "\n",
    "prepare_fulldata.prepare_fulldata_batch()"
   ]
  },
  {
   "cell_type": "markdown",
   "id": "f5e3232b-3f6c-44b4-a38b-28ad409dab8a",
   "metadata": {},
   "source": [
    "### This code is for testing load_fulldata"
   ]
  },
  {
   "cell_type": "code",
   "execution_count": null,
   "id": "408be58e-ebfd-4c9f-97ec-25219c8c5855",
   "metadata": {},
   "outputs": [],
   "source": [
    "# import importlib\n",
    "\n",
    "# importlib.reload(prepare_fulldata)\n",
    "\n",
    "# energy = ['51767680']\n",
    "# species = ['h']\n",
    "# number_history = 7\n",
    "# raw_feature_names = ['symh','asyh','asyd','ae']\n",
    "\n",
    "# df_data, directories, fulldataset_csv, fulldata_settings = prepare_fulldata.load_fulldata(energy = energy, species=species\n",
    "#                                                                                           , raw_feature_names = raw_feature_names\n",
    "#                                                                                           , number_history = number_history\n",
    "#                                                                                           , save_data = False, plot_data = False)\n",
    "\n",
    "# df_data.columns"
   ]
  },
  {
   "cell_type": "markdown",
   "id": "e201b7fe-5274-4d34-bf59-212565abbe90",
   "metadata": {},
   "source": [
    "### This code is for debugging load_fulldata\n",
    "\n",
    "Here a seperate code for load, calculate, save and plot for coordiantes, y (flux) and feature (indexes and sw) data.\n"
   ]
  },
  {
   "cell_type": "code",
   "execution_count": null,
   "id": "3a45db4d-6fd9-4f67-a4fc-f42f99cfb626",
   "metadata": {},
   "outputs": [],
   "source": [
    "import initialize_var\n",
    "import prepare_fulldata\n",
    "importlib.reload(prepare_fulldata)\n",
    "\n",
    "\n",
    "raw_feature_names = ['ae','f10.7','kp','swp','swn','swv','by','bz']#['symh','asyh','asyd','ae','f10.7','kp','swp','swn','swv','by','bz']\n",
    "number_history = 30\n",
    "\n",
    "directories, dataset_csv, fulldata_settings = initialize_var.initialize_fulldata_var(raw_feature_names = raw_feature_names, number_history=number_history)\n",
    "\n",
    "df_full = prepare_fulldata.read_probes_data(directories[\"rawdata_dir\"], fulldata_settings)"
   ]
  },
  {
   "cell_type": "code",
   "execution_count": null,
   "id": "2e82defd-eb7a-4f44-9a78-87deaf96709b",
   "metadata": {
    "scrolled": true
   },
   "outputs": [],
   "source": [
    "# energy = ['51767680']\n",
    "# species = ['h']\n",
    "\n",
    "import importlib\n",
    "importlib.reload(prepare_fulldata)\n",
    "\n",
    "# directories, dataset_csv, fulldata_settings = initialize_var.initialize_fulldata_var(raw_feature_names = raw_feature_names\n",
    "#                                                                                  , number_history=number_history)\n",
    "\n",
    "# df_full = prepare_fulldata.read_probes_data(directories[\"rawdata_dir\"], data_settings)\n",
    "\n",
    "# df_coor, df_full, fulldata_settings = prepare_fulldata.load_coor(directories, dataset_csv, fulldata_settings\n",
    "# , recalc=True, save_data = True, plot_data = True)\n",
    "\n",
    "# df_y, df_full, fulldata_settings = prepare_fulldata.load_y(directories, dataset_csv, fulldata_settings\n",
    "# , recalc = True, save_data = True, plot_data = True )\n",
    "raw_feature_names = ['ae','f10.7','kp'] #,'swp','swn','swv','by','bz']\n",
    "df_feature, df_full, fulldata_settings = prepare_fulldata.load_features(directories, dataset_csv, fulldata_settings\n",
    "                                                              , recalc = True, df_full = df_full, save_data = True, plot_data = True\n",
    "                                                              , raw_feature_names = raw_feature_names)\n"
   ]
  },
  {
   "cell_type": "markdown",
   "id": "bddd6cfa-9141-450a-9f73-2d0f7a296c2f",
   "metadata": {},
   "source": [
    "### This code is for analyzing data"
   ]
  },
  {
   "cell_type": "code",
   "execution_count": null,
   "id": "8d6ff4d7-3d48-4df0-9e77-ba7cb1d47d67",
   "metadata": {},
   "outputs": [],
   "source": [
    "import prepare_fulldata\n",
    "import importlib\n",
    "import initialize_var\n",
    "\n",
    "importlib.reload(prepare_fulldata)\n",
    "importlib.reload(initialize_var)\n",
    "\n",
    "raw_feature_names = ['symh','asyh','asyd','ae','f10.7','kp','swp','swn','swv','by','bz']\n",
    "number_history = 10\n",
    "\n",
    "directories, dataset_csv, fulldata_settings = initialize_var.initialize_fulldata_var(raw_feature_names = raw_feature_names\n",
    "                                                                                      , number_history=number_history)\n",
    "df_full = prepare_fulldata.read_probes_data(directories[\"rawdata_dir\"], fulldata_settings)\n",
    "\n"
   ]
  },
  {
   "cell_type": "code",
   "execution_count": null,
   "id": "580ff802-7860-4653-a8e7-5d15ba7ed758",
   "metadata": {},
   "outputs": [],
   "source": [
    "import numpy as np\n",
    "import pandas as pd\n",
    "import matplotlib.pyplot as plt\n",
    "\n",
    "df_y = df_full[fulldata_settings[\"y_names\"][0:54]]\n",
    "\n",
    "zero_ct = (df_y==0).sum()\n",
    "\n",
    "min_value = df_y[df_y > 0].min()\n",
    "\n",
    "sp = [s[0] for s in (zero_ct.index.tolist())]\n",
    "en = [str(x) for x in (np.double([s[7:] for s in (zero_ct.index.tolist())])/1000)]\n",
    "\n",
    "output = pd.DataFrame({'sp':sp, 'en':en, 'zero_ct':zero_ct, 'min_value':min_value})\n",
    "output = output.iloc[::-1]"
   ]
  },
  {
   "cell_type": "code",
   "execution_count": null,
   "id": "74aeaf79-352d-4d7b-bb57-3deba2e521ca",
   "metadata": {},
   "outputs": [],
   "source": [
    "output"
   ]
  },
  {
   "cell_type": "code",
   "execution_count": null,
   "id": "862ec177-a658-4871-b304-679c49e04255",
   "metadata": {},
   "outputs": [],
   "source": [
    "color_map = {'h': 'red', 'o': 'blue',}\n",
    "colors = [color_map[category] for category in output['sp']]\n",
    "\n",
    "plt.figure(figsize=(10, 5))\n",
    "\n",
    "plt.scatter(x = output['en'], y= output['zero_ct'], c=colors, s =10, label = color_map)\n",
    "plt.xticks(rotation=45)\n",
    "plt.legend()\n",
    "\n",
    "plt.title('Number of zeros for each energy bin')\n",
    "plt.xlabel('energy (eV)')\n",
    "plt.ylabel('number of zeros')\n",
    "\n",
    "# plt.show()\n",
    "plt.tight_layout()    \n",
    "\n",
    "plt.savefig('n_zero.png')"
   ]
  },
  {
   "cell_type": "code",
   "execution_count": null,
   "id": "e14efa4c-1785-4def-8e9c-3415c2e3deed",
   "metadata": {},
   "outputs": [],
   "source": [
    "color_map = {'h': 'red', 'o': 'blue',}\n",
    "colors = [color_map[category] for category in output['sp']]\n",
    "plt.figure(figsize=(10, 5))\n",
    "\n",
    "plt.scatter(x = output['en'], y= output['min_value'], c=colors, s = 10, label = color_map)\n",
    "plt.xticks(rotation=45)\n",
    "plt.yscale('log')\n",
    "plt.legend()\n",
    "\n",
    "plt.title('Minimum value for each energy bin')\n",
    "plt.ylabel('minimum value of flux')\n",
    "plt.xlabel('energy (eV)')\n",
    "plt.tight_layout()    \n",
    "plt.ylim(0.0001, 0.1) \n",
    "\n",
    "# plt.show()\n",
    "plt.savefig('min_value.png')"
   ]
  },
  {
   "cell_type": "code",
   "execution_count": null,
   "id": "60d55be6-e398-476b-add7-e6420611af50",
   "metadata": {},
   "outputs": [],
   "source": []
  },
  {
   "cell_type": "code",
   "execution_count": null,
   "id": "e63c049b-897a-4ced-859b-82d96ddce403",
   "metadata": {},
   "outputs": [],
   "source": []
  }
 ],
 "metadata": {
  "kernelspec": {
   "display_name": "Python 3 (ipykernel)",
   "language": "python",
   "name": "python3"
  },
  "language_info": {
   "codemirror_mode": {
    "name": "ipython",
    "version": 3
   },
   "file_extension": ".py",
   "mimetype": "text/x-python",
   "name": "python",
   "nbconvert_exporter": "python",
   "pygments_lexer": "ipython3",
   "version": "3.11.11"
  }
 },
 "nbformat": 4,
 "nbformat_minor": 5
}
