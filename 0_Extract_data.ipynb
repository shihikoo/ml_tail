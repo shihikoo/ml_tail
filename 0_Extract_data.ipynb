{
 "cells": [
  {
   "cell_type": "code",
   "execution_count": 2,
   "metadata": {},
   "outputs": [],
   "source": [
    "import pandas as pd\n",
    "from functions import data_preprocess_functions\n",
    "import glob\n",
    "import importlib\n",
    "import numpy as np\n",
    "\n",
    "from pyspedas import time_double\n",
    "from pyspedas import time_string\n",
    "import datetime as datetime\n"
   ]
  },
  {
   "cell_type": "code",
   "execution_count": 2,
   "metadata": {},
   "outputs": [],
   "source": [
    "dir_mms_300_name = 'idl_data/mms/output_300sec/'\n",
    "\n",
    "dir_cluster_300_name = 'idl_data/cluster/output_300sec/'"
   ]
  },
  {
   "cell_type": "markdown",
   "metadata": {},
   "source": [
    "### Read and preprocess MMS data "
   ]
  },
  {
   "cell_type": "code",
   "execution_count": 4,
   "metadata": {},
   "outputs": [],
   "source": [
    "importlib.reload(data_preprocess_functions)\n",
    "\n",
    "dir_name = dir_mms_300_name\n",
    "\n",
    "data_dir = dir_name + 'data/'\n",
    "output_dir = data_dir\n",
    "save_to_dispersion_full_filename = data_dir + 'fulldata.csv'\n",
    "\n",
    "external_filenames = sorted([i for i in glob.glob(data_dir+\"*external.csv\") if i not in glob.glob(dir_name+\"*external.csv\")])\n",
    "\n",
    "df_ext_mms = data_preprocess_functions.read_external_csv(external_filenames)\n",
    "\n",
    "df_ext_mms"
   ]
  },
  {
   "cell_type": "markdown",
   "metadata": {},
   "source": [
    "### Read and preprocess Cluster data "
   ]
  },
  {
   "cell_type": "code",
   "execution_count": null,
   "metadata": {},
   "outputs": [],
   "source": [
    "importlib.reload(data_preprocess_functions)\n",
    "\n",
    "dir_name = dir_cluster_300_name\n",
    "\n",
    "data_dir = dir_name + 'data/'\n",
    "output_dir = data_dir\n",
    "save_to_dispersion_full_filename = data_dir + 'fulldata.csv'\n",
    "\n",
    "external_filenames = sorted([i for i in glob.glob(data_dir+\"*external.csv\") if i not in glob.glob(dir_name+\"*external.csv\")])\n",
    "\n",
    "df_ext_cluster = data_preprocess_functions.read_external_csv(external_filenames)\n",
    "\n",
    "df_ext_cluster"
   ]
  },
  {
   "cell_type": "markdown",
   "metadata": {},
   "source": [
    "### Summarize data"
   ]
  },
  {
   "cell_type": "code",
   "execution_count": null,
   "metadata": {},
   "outputs": [],
   "source": [
    "\n",
    "\n"
   ]
  },
  {
   "cell_type": "markdown",
   "metadata": {},
   "source": [
    "### Visualize data"
   ]
  },
  {
   "cell_type": "code",
   "execution_count": null,
   "metadata": {},
   "outputs": [],
   "source": [
    "\n",
    "\n"
   ]
  }
 ],
 "metadata": {
  "kernelspec": {
   "display_name": "Python 3 (ipykernel)",
   "language": "python",
   "name": "python3"
  },
  "language_info": {
   "codemirror_mode": {
    "name": "ipython",
    "version": 3
   },
   "file_extension": ".py",
   "mimetype": "text/x-python",
   "name": "python",
   "nbconvert_exporter": "python",
   "pygments_lexer": "ipython3",
   "version": "3.11.11"
  }
 },
 "nbformat": 4,
 "nbformat_minor": 4
}
